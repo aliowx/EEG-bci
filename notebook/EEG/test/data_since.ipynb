{
 "cells": [
  {
   "cell_type": "code",
   "execution_count": 24,
   "id": "492b4470",
   "metadata": {},
   "outputs": [
    {
     "data": {
      "text/plain": [
       "sex                              False\n",
       "age                              False\n",
       "educational_status               False\n",
       "partner_status                   False\n",
       "employment_status                False\n",
       "weight                           False\n",
       "height                           False\n",
       "BMI                              False\n",
       "treatment                        False\n",
       "EMI                              False\n",
       "EAP                              False\n",
       "EPTCA                            False\n",
       "ECABG                            False\n",
       "ECVA_TIA                         False\n",
       "riskfactor_familyhistory         False\n",
       "riskfactor_DM                    False\n",
       "riskfactor_hypertension          False\n",
       "riskfactor_dyslipidemia          False\n",
       "riskfactor_smoking               False\n",
       "acetylsalicylic_acid             False\n",
       "cholesterol_lowering_med         False\n",
       "ACE_inhibitor                    False\n",
       "calcium_blocker                  False\n",
       "beta_blocker                     False\n",
       "thienopyridine                   False\n",
       "oral_anticoagulant               False\n",
       "nitrate                          False\n",
       "diuretic                         False\n",
       "psychotropic                     False\n",
       "angiotensin2_receptor_blocker    False\n",
       "week                             False\n",
       "steps                            False\n",
       "mvpa_mins                        False\n",
       "perception                       False\n",
       "steps_goal                       False\n",
       "mvpa_mins_goal                   False\n",
       "dtype: bool"
      ]
     },
     "execution_count": 24,
     "metadata": {},
     "output_type": "execute_result"
    }
   ],
   "source": [
    "df.isnull().any()"
   ]
  },
  {
   "cell_type": "code",
   "execution_count": null,
   "id": "1d46130a",
   "metadata": {},
   "outputs": [],
   "source": []
  }
 ],
 "metadata": {
  "kernelspec": {
   "display_name": "backend-_rtLvpYT-py3.10",
   "language": "python",
   "name": "python3"
  },
  "language_info": {
   "codemirror_mode": {
    "name": "ipython",
    "version": 3
   },
   "file_extension": ".py",
   "mimetype": "text/x-python",
   "name": "python",
   "nbconvert_exporter": "python",
   "pygments_lexer": "ipython3",
   "version": "3.10.14"
  }
 },
 "nbformat": 4,
 "nbformat_minor": 5
}
